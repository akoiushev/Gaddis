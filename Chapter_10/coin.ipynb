{
 "cells": [
  {
   "cell_type": "code",
   "execution_count": 76,
   "id": "d27413b4-cc51-4cd6-bd34-990609929df2",
   "metadata": {},
   "outputs": [
    {
     "name": "stdout",
     "output_type": "stream",
     "text": [
      "Эта сторона обращена вверх: Орел\n",
      "Подбрасываю монету...\n",
      "Эта сторона обращена вверх: Решка\n"
     ]
    }
   ],
   "source": [
    "import random\n",
    "\n",
    "# Класс Coin имитирует монету, которую \n",
    "# можно подбрасывать\n",
    "\n",
    "class Coin:\n",
    "    \n",
    "    # Метод __init__ инициализирует \n",
    "    # атрибут данных sideup со значением \"Орел\"\n",
    "    \n",
    "    def __init__(self): \n",
    "        self.sideup = 'Орел'\n",
    "\n",
    "    # Метод toss генерирует случайное число \n",
    "    # в диапазоне от 0 до 1\n",
    "    # Если это число равно 0, то sideup получает значение \"Орел\".\n",
    "    # В противном случае sideup получает значение \"Решка\".\n",
    "    \n",
    "    def toss(self):\n",
    "        if random.randint(0, 1) == 0:  \n",
    "            self.sideup = 'Орел'\n",
    "        else:\n",
    "            self.sideup = 'Решка'\n",
    "\n",
    "    # Метод get_sideup возвращает значение, \n",
    "    # на которое ссылается sideup.\n",
    "    \n",
    "    def get_sideup(self):\n",
    "        return self.sideup\n",
    "\n",
    "# Главная функция\n",
    "def main():\n",
    "    # Создать объект на основе класса Coin.\n",
    "    my_coin = Coin()\n",
    "\n",
    "    # Показать обращённую вверх сторону монетки\n",
    "    print('Эта сторона обращена вверх:', my_coin.get_sideup())\n",
    "\n",
    "    # Подбросить монету\n",
    "    print('Подбрасываю монету...')\n",
    "    my_coin.toss()\n",
    "\n",
    "    # Показать обращённую вверх сторону монеты\n",
    "    print('Эта сторона обращена вверх:', my_coin.get_sideup())\n",
    "\n",
    "# Вызвать главную функцию\n",
    "if __name__ == '__main__':\n",
    "    main()"
   ]
  }
 ],
 "metadata": {
  "kernelspec": {
   "display_name": "Python 3 (ipykernel)",
   "language": "python",
   "name": "python3"
  },
  "language_info": {
   "codemirror_mode": {
    "name": "ipython",
    "version": 3
   },
   "file_extension": ".py",
   "mimetype": "text/x-python",
   "name": "python",
   "nbconvert_exporter": "python",
   "pygments_lexer": "ipython3",
   "version": "3.12.2"
  }
 },
 "nbformat": 4,
 "nbformat_minor": 5
}
